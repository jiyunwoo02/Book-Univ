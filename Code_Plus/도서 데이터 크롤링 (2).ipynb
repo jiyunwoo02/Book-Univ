{
 "cells": [
  {
   "cell_type": "markdown",
   "id": "818899de",
   "metadata": {},
   "source": [
    "# 도서 데이터 크롤링"
   ]
  },
  {
   "cell_type": "markdown",
   "id": "8cf4d866",
   "metadata": {},
   "source": [
    "### 리뷰 데이터가 많은 Yes24, 교보문고로 크롤링 결정\n",
    "### 교보문고는 크롤링이 안 된다는 이슈가 있어서 Yes24로 크롤링 코드 작성"
   ]
  },
  {
   "cell_type": "markdown",
   "id": "8e4cfe03",
   "metadata": {},
   "source": [
    "### 잊지 말고 다뤄야 하는 이슈\n",
    "\n",
    "1. 도서 요약 모델(서비스)\n",
    "- 텍스트 요약을 평가할 방법 부재\n",
    "- 도서 요약이 잘 되었는지 확인할 방법 필요\n",
    "- 모델을 만든다면 기존에 이야기했던 권장 도거 100권이라는 데이터는 데이터양이 충분하지 않음\n",
    "\n",
    "따라서 비슷한 주제를 새로 제안\n",
    "\n",
    "2. 대학생 권장 도서 분석\n",
    "- 기존의 100권의 데이터를 바탕으로 권장 도서에 대한 분석\n",
    "\n",
    "3. 네이버 도서의 책 소개, 온라인 도서 사이트의 책 리뷰를 가져오려고 했지만, 네이버 도서에 적힌 책 소개와 도서 사이트의 책 소개가 다르지 않다는 것을 확인 후 도서 사이트에서 모두 크롤링 하는 것이 좋을 것 같다고 생각하여 도서 사이트에서만 크롤링을 진행하였음.\n"
   ]
  },
  {
   "cell_type": "markdown",
   "id": "eeec944c",
   "metadata": {},
   "source": [
    "## 크롤링 코드"
   ]
  },
  {
   "cell_type": "code",
   "execution_count": 1,
   "id": "15ab4059",
   "metadata": {},
   "outputs": [],
   "source": [
    "import numpy as np\n",
    "import pandas as pd\n",
    "import re\n",
    "import requests\n",
    "from bs4 import BeautifulSoup"
   ]
  },
  {
   "cell_type": "code",
   "execution_count": 2,
   "id": "d2d77a6a",
   "metadata": {},
   "outputs": [],
   "source": [
    "url = 'http://www.yes24.com/Product/Goods/118542760'\n",
    "res = requests.get(url)\n",
    "soup = BeautifulSoup(res.text, 'lxml')\n",
    "#soup"
   ]
  },
  {
   "cell_type": "markdown",
   "id": "7b4f90c7",
   "metadata": {},
   "source": [
    "## 책 제목"
   ]
  },
  {
   "cell_type": "code",
   "execution_count": 3,
   "id": "a0482350",
   "metadata": {},
   "outputs": [
    {
     "name": "stdout",
     "output_type": "stream",
     "text": [
      "[<h2 class=\"gd_name\">우리에게는 온기가 있기에</h2>]\n"
     ]
    }
   ],
   "source": [
    "tag_name = '#yDetailTopWrap > div.topColRgt > div.gd_infoTop > div > h2'\n",
    "books = soup.select(tag_name)\n",
    "print(books)"
   ]
  },
  {
   "cell_type": "code",
   "execution_count": 4,
   "id": "f62c44b0",
   "metadata": {},
   "outputs": [
    {
     "name": "stdout",
     "output_type": "stream",
     "text": [
      "우리에게는 온기가 있기에\n"
     ]
    }
   ],
   "source": [
    "name = books[0].text\n",
    "print(name)"
   ]
  },
  {
   "cell_type": "markdown",
   "id": "84b4f9c5",
   "metadata": {},
   "source": [
    "## 작가"
   ]
  },
  {
   "cell_type": "code",
   "execution_count": 5,
   "id": "9d1ff956",
   "metadata": {},
   "outputs": [
    {
     "name": "stdout",
     "output_type": "stream",
     "text": [
      "[<a href=\"http://www.yes24.com/Product/Search?domain=ALL&amp;query=연그림&amp;authorNo=266702&amp;author=연그림\" target=\"_blank\">연그림</a>]\n"
     ]
    }
   ],
   "source": [
    "author_tags = soup.select('span.gd_auth > a')\n",
    "print(author_tags)"
   ]
  },
  {
   "cell_type": "code",
   "execution_count": 6,
   "id": "1e199a79",
   "metadata": {},
   "outputs": [
    {
     "name": "stdout",
     "output_type": "stream",
     "text": [
      "연그림\n"
     ]
    }
   ],
   "source": [
    "author = author_tags[0].text\n",
    "print(author)"
   ]
  },
  {
   "cell_type": "markdown",
   "id": "26b41a62",
   "metadata": {},
   "source": [
    "# 저자 소개"
   ]
  },
  {
   "cell_type": "code",
   "execution_count": 11,
   "id": "44df595c",
   "metadata": {},
   "outputs": [],
   "source": [
    "import re\n",
    "# 저자소개\n",
    "author_intro_tags = soup.find('div', {'id': 'infoset_authorGrp'}).find_all(text=True, recursive=False)\n",
    "author_intro = ''.join(author_intro_tags).strip()\n",
    "author_intro = re.sub('<!--.*?-->', '', author_intro)  # 주석 제거"
   ]
  },
  {
   "cell_type": "markdown",
   "id": "a74769a6",
   "metadata": {},
   "source": [
    "## 책 소개"
   ]
  },
  {
   "cell_type": "code",
   "execution_count": 7,
   "id": "f13f82d9",
   "metadata": {},
   "outputs": [
    {
     "name": "stdout",
     "output_type": "stream",
     "text": [
      "[<div class=\"infoWrap_txtInner\">\n",
      "<textarea class=\"txtContentText\" style=\"display:none;\">\r\n",
      "<b>23만 팔로워를 울린 연그림이 그려낸 세상을 반짝이는 평범한 사람들의 이야기</b><br/><br/>SNS를 통해 세상의 따뜻한 이야기를 그리고 온기를 전하는 연그림 작가의 그림 에세이. 이 책에는 결코 특별하지 않은 ‘우리’가 등장한다. 작가 자신은 물론 우리 가족의 하루이고, 이웃의 일상이다. 유난히 마음 시린 날, 누구에게나 떠올리고 싶은 따뜻한 순간이 있다. 거창하지 않아도, 화려하지 않아도, 오래도록 온기로 남아 마음을 채우는 이야기. 놓치기 쉬운 행복의 순간을 그린 작가의 그림을 본 23만 구독자들은 마음을 꾹꾹 눌러 담은 긴 댓글로 공감하고, 위로 받는다. 이 책을 통해 우리 곁에 닿아 있는 일상의 따뜻한 순간을 꼭 마주하길 바란다.                     </textarea>\n",
      "</div>]\n"
     ]
    }
   ],
   "source": [
    "introduce_tags = soup.select('div.infoWrap_txtInner')\n",
    "print(introduce_tags)"
   ]
  },
  {
   "cell_type": "code",
   "execution_count": 8,
   "id": "f0bd836c",
   "metadata": {},
   "outputs": [
    {
     "name": "stdout",
     "output_type": "stream",
     "text": [
      "\n",
      "\r\n",
      "23만 팔로워를 울린 연그림이 그려낸 세상을 반짝이는 평범한 사람들의 이야기SNS를 통해 세상의 따뜻한 이야기를 그리고 온기를 전하는 연그림 작가의 그림 에세이. 이 책에는 결코 특별하지 않은 ‘우리’가 등장한다. 작가 자신은 물론 우리 가족의 하루이고, 이웃의 일상이다. 유난히 마음 시린 날, 누구에게나 떠올리고 싶은 따뜻한 순간이 있다. 거창하지 않아도, 화려하지 않아도, 오래도록 온기로 남아 마음을 채우는 이야기. 놓치기 쉬운 행복의 순간을 그린 작가의 그림을 본 23만 구독자들은 마음을 꾹꾹 눌러 담은 긴 댓글로 공감하고, 위로 받는다. 이 책을 통해 우리 곁에 닿아 있는 일상의 따뜻한 순간을 꼭 마주하길 바란다.                     \n",
      "\n"
     ]
    }
   ],
   "source": [
    "introduce = introduce_tags[0].text\n",
    "print(introduce)"
   ]
  },
  {
   "cell_type": "markdown",
   "id": "b77b02a2",
   "metadata": {},
   "source": [
    "## 목차"
   ]
  },
  {
   "cell_type": "code",
   "execution_count": 9,
   "id": "958a4448",
   "metadata": {},
   "outputs": [
    {
     "name": "stdout",
     "output_type": "stream",
     "text": [
      "[<div class=\"infoWrap_txt\">\n",
      "<textarea class=\"txtContentText\" style=\"display:none;\">\r\n",
      "&lt;b&gt;PART 1 아껴둔 마음&lt;/b&gt;&lt;br/&gt;&lt;br/&gt;천천히 쌓여 간 우정 / 백 점짜리 아빠 / 위로하는 방법 / 꽃말의 기운이 닿기를 / 말로 다 못 전한 마음을 / 사랑의 준비 / 더 소중한 쪽 / 슬퍼도 행복한 이야기 / 그렇고 그런 사이 / 어떤 결심의 계기 / 할머니는 다 알지 / 마음을 전하는 그림 &lt;br/&gt;&lt;br/&gt;&lt;b&gt;PART 2 가장 소중한 건 함께하는 지금&lt;/b&gt;&lt;br/&gt;&lt;br/&gt;그 마음 모를 줄 알았지 / 가장 행복한 연말 보내기 / 말로는 다 전할 수 없는 사랑의 깊이 / 그때 그 마음 / 기다리는 마음 / 꽤 괜찮은 어버이날 선물 / 행복의 모양 / 미워할 수 없는 이유 / 미안하게 왜 그래 / 엄마의 귀여운 걱정 / 요정의 선물 / 서로만 생각한 마음들 / 사랑한다는 뜻이야 / 마음 챙김 &lt;br/&gt;&lt;br/&gt;&lt;b&gt;PART 3 우린 다 잘 될 거야&lt;/b&gt;&lt;br/&gt;&lt;br/&gt;든든한 보호자 / 아름다운 작전 / 무한히 사랑할 사람 / 보석처럼 빛나는 친구들 / 순진하고 예쁜 녀석들 / 뜨끈하게 영원히 / 그 마음을 다 알기에 / 참 스승 / 나만의 일등 / 꼭 필요했던 말 &lt;br/&gt;&lt;br/&gt;&lt;b&gt;PART 4 눈부시게 빛나는&lt;/b&gt;&lt;br/&gt;&lt;br/&gt;마음으로 기억하는 것 / 사랑의 전략 / 한마디의 힘 / 잊고 살았던 것 / 두 가지 거울 / 뜻밖의 값진 선물 / 취향 저격 선물 / 그 마음 다치지 않게 / 소중한 보물 / 사랑의 자랑 &lt;br/&gt;&lt;br/&gt;&lt;b&gt;PART 5 나누며 채우는 행복&lt;/b&gt;&lt;br/&gt;&lt;br/&gt;두 사람을 위한 선물 / 작은 관심이 바꿔 놓은 것 / 온기를 건네요 / 행운의 기운아, 퍼져라 / 아무리 갚아도 부족한 은혜 / 초콜릿보다 더 달달한 / 몽글몽글 아저씨 / 마음의 온도 / 작지만 강한 방법 / 멋진 동네 사람들 / 마음 나눔 / 수상한 아줌마 / 기다려지는 사람 / 진심을 드려요&lt;br/&gt;&lt;br/&gt;&lt;b&gt;PART 6 미공개 에피소드&lt;/b&gt;&lt;br/&gt;&lt;br/&gt;최고의 선물 / 같은 소원 / 행복했으면 좋겠어 &lt;br/&gt;&lt;br/&gt;작가의 말                </textarea>\n",
      "</div>]\n"
     ]
    }
   ],
   "source": [
    "info_tags = soup.select('#infoset_toc > div.infoSetCont_wrap > div.infoWrap_txt')\n",
    "\n",
    "print(info_tags)"
   ]
  },
  {
   "cell_type": "markdown",
   "id": "3fff67ee",
   "metadata": {},
   "source": [
    "## 출판사 리뷰"
   ]
  },
  {
   "cell_type": "code",
   "execution_count": 10,
   "id": "e0fbe691",
   "metadata": {},
   "outputs": [
    {
     "name": "stdout",
     "output_type": "stream",
     "text": [
      "[<div class=\"infoWrap_txt\">\n",
      "<b>오래도록 온기로 남아 마음을 채우는 이야기<br/>반드시 누군가를 떠올리게 되는 이야기<br/><br/>그리하여 꼭 연락을 하게 되는 마법 같은 순간을 선물합니다.</b><br/><br/>우리는 때때로 백 마디의 좋은 말보다 하나의 다정한 행동에 오래도록 따뜻한 온기를 느낀다. 삭막하고 각박한 세상이라고 하지만 그 속에 피어나는 봄 같은 이야기는 분명히 존재한다. 어린 손녀와 놀아 주기 위해 영어 책을 집어든 할아버지의 마음, 회사 일로 지친 엄마를 위해 작은 파티를 준비하는 요정 같은 아이들. 작가가 놓치지 않고 따뜻한 시선으로 그려낸 삶의 이야기는 우리가 얼마나 큰 사랑을 받고 있고, 사랑을 나눌 수 있는지, 그로 인하여 세상은 지치지 않고 쉼 없이 반짝인다는 것을 보여준다. 이 책을 읽으면 우리는 반드시 누군가를 떠올리며 꼭 연락하게 될 것이다.                </div>]\n"
     ]
    }
   ],
   "source": [
    "rewiew_pub_tags = soup.select('#infoset_pubReivew > div.infoSetCont_wrap > div.infoWrap_txt')\n",
    "print(rewiew_pub_tags)"
   ]
  },
  {
   "cell_type": "markdown",
   "id": "76226629",
   "metadata": {},
   "source": [
    "## 추천평"
   ]
  },
  {
   "cell_type": "code",
   "execution_count": 11,
   "id": "da2f5172",
   "metadata": {},
   "outputs": [
    {
     "name": "stdout",
     "output_type": "stream",
     "text": [
      "[<div class=\"infoWrap_txt\">\r\n",
      "꼭꼭 숨어 있어서 쉽게 볼 수 없는, 세상 구석구석에 분명히 존재하는 따뜻한 이야기를 담고 있어요. 우리가 나눈 마음은 세상 어딘가에 은은하게 남아, 돌고 돌아요. 그러니까 우리는 계속해서 마음을 담은 종이배를 접어서 띄워 보내야 해요. 우연히 누군가의 손에 들어가 작지 않은 온기가 될 수도 있거든요.                \r\n",
      "                    <br/>\n",
      "<b>- 지수 (김토끼 작가)</b>\n",
      "</div>, <div class=\"infoWrap_txt\">\r\n",
      "나이가 들고 경험이 쌓이면서 갑옷도 점점 두꺼워집니다. 두꺼운 갑옷을 입고 있으면 남에게 상처를 덜 받을 것 같아서요. 그래도 무겁고 차가운 갑옷을 매일 걸치고 다니려니 외롭고 벅차기도 합니다. 연그림 작가는 따뜻한 사람 이야기로 무거운 갑옷을 내려놓게 만들어요. 낯선 사람에 대한 두려움은 잠깐 잊고, 따뜻한 교감할 수 있는 기대감으로 가득 차게 만들죠.                \r\n",
      "                    <br/>\n",
      "<b>- 정다운 (마님툰 작가)</b>\n",
      "</div>]\n"
     ]
    }
   ],
   "source": [
    "res_tags = soup.select('#infoset_nomiCmt > div.infoSetCont_wrap > div.infoWrap_txt')\n",
    "print(res_tags)"
   ]
  },
  {
   "cell_type": "markdown",
   "id": "3fff2f12",
   "metadata": {},
   "source": [
    "## 회원리뷰"
   ]
  },
  {
   "cell_type": "code",
   "execution_count": 12,
   "id": "2a522e55",
   "metadata": {},
   "outputs": [
    {
     "name": "stdout",
     "output_type": "stream",
     "text": [
      "제가 정말 좋아하는 작가님이라사은품 머그컵과 함께 구매 했습니다어제 배송이 왔는데 배송할 때 완충제와 함께 왔습니다만 충분치 못한 탓인지 머그컵이 산산조각이 되어서 배송이 왔더라구요책은 너무나 잘 읽었고 책을 내주셔서 감사하지만머그컵이 아쉬웠습니다머그컵 외에는 다 괜찮았고제가 인스타로 항상 업로드를 기다리고 있던 작가님이라책까지 샀는데 역...더보기\n",
      "제가 정말 좋아하는 작가님이라사은품 머그컵과 함께 구매 했습니다어제 배송이 왔는데 배송할 때 완충제와 함께 왔습니다만 충분치 못한 탓인지 머그컵이 산산조각이 되어서 배송이 왔더라구요책은 너무나 잘 읽었고 책을 내주셔서 감사하지만머그컵이 아쉬웠습니다머그컵 외에는 다 괜찮았고제가 인스타로 항상 업로드를 기다리고 있던 작가님이라책까지 샀는데 역시나 책 읽으면서 마음이 따뜻해지는에피소드가 넘쳐나서 앞으로도 힘들 때 종종 다시 읽고 싶은 마음이 드는 책이었습니다.\n",
      "작가님의 몽글몽글한 그림에 따뜻한 이야기가 더해져서하루하루 행복과 온기 그리고 감동을 느낄 수 있는 책이에요.짧은 스토리 안엔 정말 온기가 가득 들어 있는,바쁜 일상 속에서도 부담 없이 보면서 힐링 할 수 있는 책이라 어느 누구에게도 추천 하고 싶은 책이에요.  지친 퇴근길, 육아 하면서 힘들때 마다 인스타 툰 보면서 냉소해졌던 마음이 샤르륵 녹아내리...더보기\n",
      "작가님의 몽글몽글한 그림에 따뜻한 이야기가 더해져서하루하루 행복과 온기 그리고 감동을 느낄 수 있는 책이에요.짧은 스토리 안엔 정말 온기가 가득 들어 있는,바쁜 일상 속에서도 부담 없이 보면서힐링 할 수 있는 책이라 어느 누구에게도 추천 하고 싶은 책이에요.지친 퇴근길, 육아 하면서 힘들때 마다 인스타 툰 보면서 냉소해졌던 마음이 샤르륵 녹아내리고, 따뜻함으로 채워지는 감동을 느꼈었는데 이렇게 책으로도 볼 수 있게 되어 반갑고 기쁘네요! 책 펼치자마자 미공개 에피소드가 너무 궁금해서 그거 먼저 읽고 일상 속에서 틈틈이 보면서 온기 가득 충전 하고 있어요~연그림 작가님 감사합니다♡그리고 응원합니다♡책을 읽는 독자들 모두 온기, 사랑, 행복이 마음속에 스며들기를, 지쳐 있던 오늘 하루 위로가 되기를 바라요:)\n",
      "표지만 봐도 얼마나 따뜻한 책일까 기대가됐어요. 짧지만 울림 있는 수십 편의 이야기들은 하나하나 너무 예쁘고 소중하네요. 자기 전에 하루를 정리하면서 위로받듯 몇 장씩 읽는 게 참 좋았습니다. 금세 다 읽었지만 시간을 두고 있다가 아껴서 또 읽으려고요. 차가워진 마음을 데워주는 난로 같은 책입니다. 행복을 잊고 있는 사람들에게 추천합니다. 더 나은 사...더보기\n",
      "표지만 봐도 얼마나 따뜻한 책일까 기대가됐어요. 짧지만 울림 있는 수십 편의 이야기들은 하나하나 너무 예쁘고 소중하네요. 자기 전에 하루를 정리하면서 위로받듯 몇 장씩 읽는 게 참 좋았습니다. 금세 다 읽었지만 시간을 두고 있다가 아껴서 또 읽으려고요. 차가워진 마음을 데워주는 난로 같은 책입니다. 행복을 잊고 있는 사람들에게 추천합니다. 더 나은 사람으로 살아가고 싶게 만들어줘요.\n",
      "드디어받았어요!!!!!!!!!!!!♡♡♡♡♡♡♡♡♡너무빨ㄹㅣ받고싶어서 500포인트도 포기하고 새벽배송으로 시켰는데 이틀후에 왔어요ㅠㅠㅠㅠ!!!!!!!!그치만 온기컵도 너무 예쁘고 책도 읽으면 마음이 따뜻해져서 만족합니다!!!!!!!!♡♡♡♡♡♡♡♡♡작가님 앞으로도 따뜻한 작품 많이 내주세요~~~~~~~~~~♡♡♡♡♡♡♡♡♡♡♡♡♡♡♡더보기\n",
      "드디어받았어요!!!!!!!!!!!!♡♡♡♡♡♡♡♡♡너무빨ㄹㅣ받고싶어서 500포인트도 포기하고 새벽배송으로 시켰는데 이틀후에 왔어요ㅠㅠㅠㅠ!!!!!!!!그치만 온기컵도 너무 예쁘고 책도 읽으면 마음이 따뜻해져서 만족합니다!!!!!!!!♡♡♡♡♡♡♡♡♡작가님 앞으로도 따뜻한 작품 많이 내주세요~~~~~~~~~~♡♡♡♡♡♡♡♡♡♡♡♡♡♡♡\n",
      "나이 들면서 잃어버렸던 따뜻한 감정들을 다시 느낄 수 있어서 정말 좋았습니다 읽으면서 돌아가신 할아버지 할머니와 아버지 어머니 친구들 여럿 지인들과의 좋은 추억들이 계속 생각났네요아직까지 내 마음속에 온기가 남아있던 것 같습니다주변 지인들에게 한권씩 선물해주고 싶네요. 저처럼 잃어버린 마음속의 온기를 느껴봤으면 하는 마음입니다그리고 같이 받...더보기\n",
      "나이 들면서 잃어버렸던 따뜻한 감정들을 다시 느낄 수 있어서 정말 좋았습니다읽으면서 돌아가신 할아버지 할머니와 아버지 어머니 친구들 여럿 지인들과의 좋은 추억들이 계속 생각났네요아직까지 내 마음속에 온기가 남아있던 것 같습니다주변 지인들에게 한권씩 선물해주고 싶네요. 저처럼 잃어버린 마음속의 온기를 느껴봤으면 하는 마음입니다그리고 같이 받은 머그컵도 정말 예뻐요!\n"
     ]
    }
   ],
   "source": [
    "url = 'http://www.yes24.com/Product/CommunityModules/GoodsReviewList/118542760?goodsSortNo=001034&resourceKeyGb=01&goodsStateGb=02&goodsSetYn=N&goodsGb=01&Sort=1&PageNumber=1&Type=ALL&DojungAfterBuy=0&_=1683884658026'\n",
    "\n",
    "res = requests.get(url)\n",
    "soup = BeautifulSoup(res.text, 'lxml')\n",
    "\n",
    "for review in soup.select('div.review_cont'):\n",
    "    print(review.get_text(strip=True))\n"
   ]
  },
  {
   "cell_type": "code",
   "execution_count": null,
   "id": "d5b44b32",
   "metadata": {},
   "outputs": [],
   "source": []
  },
  {
   "cell_type": "code",
   "execution_count": null,
   "id": "8eb2a37e",
   "metadata": {},
   "outputs": [],
   "source": []
  },
  {
   "cell_type": "code",
   "execution_count": null,
   "id": "d8073f9e",
   "metadata": {},
   "outputs": [],
   "source": []
  }
 ],
 "metadata": {
  "kernelspec": {
   "display_name": "Python 3 (ipykernel)",
   "language": "python",
   "name": "python3"
  },
  "language_info": {
   "codemirror_mode": {
    "name": "ipython",
    "version": 3
   },
   "file_extension": ".py",
   "mimetype": "text/x-python",
   "name": "python",
   "nbconvert_exporter": "python",
   "pygments_lexer": "ipython3",
   "version": "3.9.7"
  }
 },
 "nbformat": 4,
 "nbformat_minor": 5
}
