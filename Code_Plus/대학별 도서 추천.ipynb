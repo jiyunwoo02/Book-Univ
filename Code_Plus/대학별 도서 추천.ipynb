{
 "cells": [
  {
   "cell_type": "markdown",
   "id": "ec8cf078",
   "metadata": {},
   "source": [
    "# 파이썬 독서 추천 챗봇 임의로 만들어보기"
   ]
  },
  {
   "cell_type": "code",
   "execution_count": 1,
   "id": "8121c7df",
   "metadata": {},
   "outputs": [],
   "source": [
    "import pandas as pd\n",
    "import random"
   ]
  },
  {
   "cell_type": "code",
   "execution_count": 2,
   "id": "6c105cd6",
   "metadata": {},
   "outputs": [],
   "source": [
    "def recommend_books(school):\n",
    "     # 엑셀 파일 불러오기\n",
    "        # 파일명 통일\n",
    "    file_name = f'{school}_2022_인기도서_50.csv'\n",
    "    df = pd.read_csv(file_name)\n",
    "\n",
    "    # 해당 학교의 도서 목록 가져오기\n",
    "    school_books = df['도서명'].tolist()\n",
    "\n",
    "    if len(school_books) == 0:\n",
    "        return \"해당 학교의 도서 정보는 제공되지 않습니다.\"\n",
    "\n",
    "    # 인기도서 상위 5권 출력\n",
    "    popular_books = df.nlargest(5, '대출횟수')['도서명'].tolist()\n",
    "\n",
    "    # 임의의 책 추천\n",
    "    random_book = random.choice(school_books)\n",
    "\n",
    "    return popular_books, random_book"
   ]
  },
  {
   "cell_type": "code",
   "execution_count": 3,
   "id": "c4462580",
   "metadata": {},
   "outputs": [
    {
     "name": "stdout",
     "output_type": "stream",
     "text": [
      "🏫 학교명을 입력해주세요! (@@대) : 삼육대\n",
      "\n",
      "\n",
      "😊 삼육대의 2022 인기도서 5권입니다~ \n",
      " ['지구에서 한아뿐 : 정세랑 장편소설', '돈의 속성 : 최상위 부자가 말하는 돈에 대한 모든 것', '(IFRS) 회계원리 2판', '달러구트 꿈 백화점 : 주문하신 꿈은 매진입니다: 이미예 장편소설', '공정하다는 착각 : 능력주의는 모두에게 같은 기회를 제공하는가']\n",
      "\n",
      "\n",
      "📚 도서를 추천해드릴게요! \n",
      " =>  음식과 세계문화\n",
      "\n",
      "\n",
      "🙏 서비스를 이용해주셔서 감사합니다 🙏\n"
     ]
    }
   ],
   "source": [
    "# 테스트\n",
    "# 총 21개의 학교\n",
    "school_name = input(\"🏫 학교명을 입력해주세요! (@@대) : \")\n",
    "recommended_books, recommended_book = recommend_books(school_name)\n",
    "\n",
    "print('\\n')\n",
    "print(f\"😊 {school_name}의 2022 인기도서 5권입니다~ \\n\", recommended_books)\n",
    "\n",
    "print('\\n')\n",
    "print(\"📚 도서를 추천해드릴게요! \\n => \", recommended_book)\n",
    "\n",
    "print('\\n')\n",
    "print(\"🙏 서비스를 이용해주셔서 감사합니다 🙏\")"
   ]
  },
  {
   "cell_type": "code",
   "execution_count": null,
   "id": "1f75d7ce",
   "metadata": {},
   "outputs": [],
   "source": []
  }
 ],
 "metadata": {
  "kernelspec": {
   "display_name": "Python 3 (ipykernel)",
   "language": "python",
   "name": "python3"
  },
  "language_info": {
   "codemirror_mode": {
    "name": "ipython",
    "version": 3
   },
   "file_extension": ".py",
   "mimetype": "text/x-python",
   "name": "python",
   "nbconvert_exporter": "python",
   "pygments_lexer": "ipython3",
   "version": "3.9.7"
  }
 },
 "nbformat": 4,
 "nbformat_minor": 5
}
